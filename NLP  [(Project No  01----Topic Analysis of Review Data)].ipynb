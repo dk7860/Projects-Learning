{
 "cells": [
  {
   "cell_type": "markdown",
   "metadata": {},
   "source": [
    "<h2 style=\"color:red\">NLP  [(Project No:01----Topic Analysis of Review Data)]</h2> "
   ]
  },
  {
   "cell_type": "code",
   "execution_count": 1,
   "metadata": {},
   "outputs": [],
   "source": [
    "#Importing required libraries\n",
    "import nltk\n",
    "import numpy as np\n",
    "import pandas as pd\n",
    "from string import punctuation\n",
    "from nltk.corpus import stopwords\n",
    "import warnings\n",
    "warnings.filterwarnings('ignore')"
   ]
  },
  {
   "cell_type": "markdown",
   "metadata": {},
   "source": [
    "<h2 style=\"color:Green\">1). Reading the dataset and checking for first few rows</h2> "
   ]
  },
  {
   "cell_type": "code",
   "execution_count": 2,
   "metadata": {},
   "outputs": [
    {
     "data": {
      "text/html": [
       "<div>\n",
       "<style scoped>\n",
       "    .dataframe tbody tr th:only-of-type {\n",
       "        vertical-align: middle;\n",
       "    }\n",
       "\n",
       "    .dataframe tbody tr th {\n",
       "        vertical-align: top;\n",
       "    }\n",
       "\n",
       "    .dataframe thead th {\n",
       "        text-align: right;\n",
       "    }\n",
       "</style>\n",
       "<table border=\"1\" class=\"dataframe\">\n",
       "  <thead>\n",
       "    <tr style=\"text-align: right;\">\n",
       "      <th></th>\n",
       "      <th>sentiment</th>\n",
       "      <th>review</th>\n",
       "    </tr>\n",
       "  </thead>\n",
       "  <tbody>\n",
       "    <tr>\n",
       "      <th>0</th>\n",
       "      <td>1</td>\n",
       "      <td>Good but need updates and improvements</td>\n",
       "    </tr>\n",
       "    <tr>\n",
       "      <th>1</th>\n",
       "      <td>0</td>\n",
       "      <td>Worst mobile i have bought ever, Battery is dr...</td>\n",
       "    </tr>\n",
       "    <tr>\n",
       "      <th>2</th>\n",
       "      <td>1</td>\n",
       "      <td>when I will get my 10% cash back.... its alrea...</td>\n",
       "    </tr>\n",
       "    <tr>\n",
       "      <th>3</th>\n",
       "      <td>1</td>\n",
       "      <td>Good</td>\n",
       "    </tr>\n",
       "    <tr>\n",
       "      <th>4</th>\n",
       "      <td>0</td>\n",
       "      <td>The worst phone everThey have changed the last...</td>\n",
       "    </tr>\n",
       "  </tbody>\n",
       "</table>\n",
       "</div>"
      ],
      "text/plain": [
       "   sentiment                                             review\n",
       "0          1             Good but need updates and improvements\n",
       "1          0  Worst mobile i have bought ever, Battery is dr...\n",
       "2          1  when I will get my 10% cash back.... its alrea...\n",
       "3          1                                               Good\n",
       "4          0  The worst phone everThey have changed the last..."
      ]
     },
     "execution_count": 2,
     "metadata": {},
     "output_type": "execute_result"
    }
   ],
   "source": [
    "reviews0=pd.read_csv(r'D:\\DATA SCIENTIST & AI\\Simplilearn\\AI\\NLP\\Project\\K8 Reviews v0.2.csv')\n",
    "reviews0.head()"
   ]
  },
  {
   "cell_type": "code",
   "execution_count": 3,
   "metadata": {},
   "outputs": [],
   "source": [
    "reviews1=list(reviews0['review'].values) # converting into list format"
   ]
  },
  {
   "cell_type": "code",
   "execution_count": 4,
   "metadata": {},
   "outputs": [
    {
     "data": {
      "text/plain": [
       "list"
      ]
     },
     "execution_count": 4,
     "metadata": {},
     "output_type": "execute_result"
    }
   ],
   "source": [
    "\n",
    "type(reviews1)"
   ]
  },
  {
   "cell_type": "code",
   "execution_count": 5,
   "metadata": {},
   "outputs": [
    {
     "data": {
      "text/plain": [
       "'Good but need updates and improvements'"
      ]
     },
     "execution_count": 5,
     "metadata": {},
     "output_type": "execute_result"
    }
   ],
   "source": [
    "reviews1[0]"
   ]
  },
  {
   "cell_type": "markdown",
   "metadata": {},
   "source": [
    "<h2 style=\"color:Green\">2). Normalising casing into a lower text for easier manipulation</h2> "
   ]
  },
  {
   "cell_type": "code",
   "execution_count": 6,
   "metadata": {},
   "outputs": [
    {
     "data": {
      "text/plain": [
       "'good but need updates and improvements'"
      ]
     },
     "execution_count": 6,
     "metadata": {},
     "output_type": "execute_result"
    }
   ],
   "source": [
    "review_low=[rev.lower() for rev in reviews1]\n",
    "review_low[0]"
   ]
  },
  {
   "cell_type": "markdown",
   "metadata": {},
   "source": [
    "<h2 style=\"color:Green\">3). Tokenize the reviews using NLTKs word_tokenize function.</h2> "
   ]
  },
  {
   "cell_type": "code",
   "execution_count": 7,
   "metadata": {},
   "outputs": [
    {
     "data": {
      "text/plain": [
       "['good', 'but', 'need', 'updates', 'and', 'improvements']"
      ]
     },
     "execution_count": 7,
     "metadata": {},
     "output_type": "execute_result"
    }
   ],
   "source": [
    "review_tokenize=[nltk.word_tokenize(term) for term in review_low]\n",
    "review_tokenize[0]"
   ]
  },
  {
   "cell_type": "markdown",
   "metadata": {},
   "source": [
    "<h2 style=\"color:Green\">4).Parts of speech tagging.</h2> "
   ]
  },
  {
   "cell_type": "code",
   "execution_count": 9,
   "metadata": {},
   "outputs": [
    {
     "data": {
      "text/plain": [
       "[('only', 'RB'),\n",
       " ('i', 'JJ'),\n",
       " (\"'m\", 'VBP'),\n",
       " ('telling', 'VBG'),\n",
       " ('do', 'VBP'),\n",
       " (\"n't\", 'RB'),\n",
       " ('buyi', 'VB'),\n",
       " (\"'m\", 'VBP'),\n",
       " ('totally', 'RB'),\n",
       " ('disappointedpoor', 'JJ'),\n",
       " ('batterypoor', 'JJ'),\n",
       " ('camerawaste', 'NN'),\n",
       " ('of', 'IN'),\n",
       " ('money', 'NN')]"
      ]
     },
     "execution_count": 9,
     "metadata": {},
     "output_type": "execute_result"
    }
   ],
   "source": [
    "review_pos=[nltk.pos_tag(term) for term in review_tokenize]\n",
    "review_pos[5]"
   ]
  },
  {
   "cell_type": "code",
   "execution_count": 10,
   "metadata": {},
   "outputs": [
    {
     "data": {
      "text/plain": [
       "[('worst', 'JJS'),\n",
       " ('mobile', 'NN'),\n",
       " ('i', 'NN'),\n",
       " ('have', 'VBP'),\n",
       " ('bought', 'VBN'),\n",
       " ('ever', 'RB'),\n",
       " (',', ','),\n",
       " ('battery', 'NN'),\n",
       " ('is', 'VBZ'),\n",
       " ('draining', 'VBG'),\n",
       " ('like', 'IN'),\n",
       " ('hell', 'NN'),\n",
       " (',', ','),\n",
       " ('backup', 'NN'),\n",
       " ('is', 'VBZ'),\n",
       " ('only', 'RB'),\n",
       " ('6', 'CD'),\n",
       " ('to', 'TO'),\n",
       " ('7', 'CD'),\n",
       " ('hours', 'NNS'),\n",
       " ('with', 'IN'),\n",
       " ('internet', 'JJ'),\n",
       " ('uses', 'NNS'),\n",
       " (',', ','),\n",
       " ('even', 'RB'),\n",
       " ('if', 'IN'),\n",
       " ('i', 'JJ'),\n",
       " ('put', 'VBP'),\n",
       " ('mobile', 'JJ'),\n",
       " ('idle', 'NN'),\n",
       " ('its', 'PRP$'),\n",
       " ('getting', 'VBG'),\n",
       " ('discharged.this', 'NN'),\n",
       " ('is', 'VBZ'),\n",
       " ('biggest', 'JJS'),\n",
       " ('lie', 'NN'),\n",
       " ('from', 'IN'),\n",
       " ('amazon', 'NN'),\n",
       " ('&', 'CC'),\n",
       " ('lenove', 'NN'),\n",
       " ('which', 'WDT'),\n",
       " ('is', 'VBZ'),\n",
       " ('not', 'RB'),\n",
       " ('at', 'IN'),\n",
       " ('all', 'DT'),\n",
       " ('expected', 'VBN'),\n",
       " (',', ','),\n",
       " ('they', 'PRP'),\n",
       " ('are', 'VBP'),\n",
       " ('making', 'VBG'),\n",
       " ('full', 'JJ'),\n",
       " ('by', 'IN'),\n",
       " ('saying', 'VBG'),\n",
       " ('that', 'DT'),\n",
       " ('battery', 'NN'),\n",
       " ('is', 'VBZ'),\n",
       " ('4000mah', 'CD'),\n",
       " ('&', 'CC'),\n",
       " ('booster', 'JJR'),\n",
       " ('charger', 'NN'),\n",
       " ('is', 'VBZ'),\n",
       " ('fake', 'JJ'),\n",
       " (',', ','),\n",
       " ('it', 'PRP'),\n",
       " ('takes', 'VBZ'),\n",
       " ('at', 'IN'),\n",
       " ('least', 'JJS'),\n",
       " ('4', 'CD'),\n",
       " ('to', 'TO'),\n",
       " ('5', 'CD'),\n",
       " ('hours', 'NNS'),\n",
       " ('to', 'TO'),\n",
       " ('be', 'VB'),\n",
       " ('fully', 'RB'),\n",
       " ('charged.do', 'VBP'),\n",
       " (\"n't\", 'RB'),\n",
       " ('know', 'VB'),\n",
       " ('how', 'WRB'),\n",
       " ('lenovo', 'JJ'),\n",
       " ('will', 'MD'),\n",
       " ('survive', 'VB'),\n",
       " ('by', 'IN'),\n",
       " ('making', 'VBG'),\n",
       " ('full', 'JJ'),\n",
       " ('of', 'IN'),\n",
       " ('us.please', 'JJ'),\n",
       " ('don', 'NN'),\n",
       " (';', ':'),\n",
       " ('t', 'CC'),\n",
       " ('go', 'VB'),\n",
       " ('for', 'IN'),\n",
       " ('this', 'DT'),\n",
       " ('else', 'JJ'),\n",
       " ('you', 'PRP'),\n",
       " ('will', 'MD'),\n",
       " ('regret', 'VB'),\n",
       " ('like', 'IN'),\n",
       " ('me', 'PRP'),\n",
       " ('.', '.')]"
      ]
     },
     "execution_count": 10,
     "metadata": {},
     "output_type": "execute_result"
    }
   ],
   "source": [
    "review_pos[1]"
   ]
  },
  {
   "cell_type": "markdown",
   "metadata": {},
   "source": [
    "<h2 style=\"color:Green\">5).Extracting all nouns.</h2>  "
   ]
  },
  {
   "cell_type": "code",
   "execution_count": 12,
   "metadata": {},
   "outputs": [
    {
     "name": "stdout",
     "output_type": "stream",
     "text": [
      "['updates', 'improvements']\n"
     ]
    }
   ],
   "source": [
    "only_nn=[]\n",
    "for term in review_pos:\n",
    "    res=[sent for sent,pos in term if pos.startswith (\"N\") ]\n",
    "    only_nn.append(res)\n",
    "    \n",
    "print(only_nn[0])"
   ]
  },
  {
   "cell_type": "code",
   "execution_count": 13,
   "metadata": {},
   "outputs": [
    {
     "name": "stdout",
     "output_type": "stream",
     "text": [
      "['mobile', 'i', 'battery', 'hell', 'backup', 'hours', 'uses', 'idle', 'discharged.this', 'lie', 'amazon', 'lenove', 'battery', 'charger', 'hours', 'don']\n"
     ]
    }
   ],
   "source": [
    "print(only_nn[1])"
   ]
  },
  {
   "cell_type": "markdown",
   "metadata": {},
   "source": [
    "<h2 style=\"color:Green\">6).Lemmatization</h2>  "
   ]
  },
  {
   "cell_type": "code",
   "execution_count": 15,
   "metadata": {},
   "outputs": [
    {
     "name": "stdout",
     "output_type": "stream",
     "text": [
      "['update', 'improvement']\n"
     ]
    }
   ],
   "source": [
    "lemma=nltk.stem.WordNetLemmatizer()\n",
    "review_lema=[]\n",
    "for term in only_nn:\n",
    "    review_lema.append([lemma.lemmatize(word) for word in term])\n",
    "    \n",
    "print(review_lema[0])"
   ]
  },
  {
   "cell_type": "markdown",
   "metadata": {},
   "source": [
    "<h2 style=\"color:Green\"> 7).Removing stop words and punctuation</h2>   "
   ]
  },
  {
   "cell_type": "code",
   "execution_count": 17,
   "metadata": {},
   "outputs": [
    {
     "name": "stdout",
     "output_type": "stream",
     "text": [
      "['i', 'me', 'my', 'myself', 'we', 'our', 'ours', 'ourselves', 'you', \"you're\", \"you've\", \"you'll\", \"you'd\", 'your', 'yours', 'yourself', 'yourselves', 'he', 'him', 'his', 'himself', 'she', \"she's\", 'her', 'hers', 'herself', 'it', \"it's\", 'its', 'itself', 'they', 'them', 'their', 'theirs', 'themselves', 'what', 'which', 'who', 'whom', 'this', 'that', \"that'll\", 'these', 'those', 'am', 'is', 'are', 'was', 'were', 'be', 'been', 'being', 'have', 'has', 'had', 'having', 'do', 'does', 'did', 'doing', 'a', 'an', 'the', 'and', 'but', 'if', 'or', 'because', 'as', 'until', 'while', 'of', 'at', 'by', 'for', 'with', 'about', 'against', 'between', 'into', 'through', 'during', 'before', 'after', 'above', 'below', 'to', 'from', 'up', 'down', 'in', 'out', 'on', 'off', 'over', 'under', 'again', 'further', 'then', 'once', 'here', 'there', 'when', 'where', 'why', 'how', 'all', 'any', 'both', 'each', 'few', 'more', 'most', 'other', 'some', 'such', 'no', 'nor', 'not', 'only', 'own', 'same', 'so', 'than', 'too', 'very', 's', 't', 'can', 'will', 'just', 'don', \"don't\", 'should', \"should've\", 'now', 'd', 'll', 'm', 'o', 're', 've', 'y', 'ain', 'aren', \"aren't\", 'couldn', \"couldn't\", 'didn', \"didn't\", 'doesn', \"doesn't\", 'hadn', \"hadn't\", 'hasn', \"hasn't\", 'haven', \"haven't\", 'isn', \"isn't\", 'ma', 'mightn', \"mightn't\", 'mustn', \"mustn't\", 'needn', \"needn't\", 'shan', \"shan't\", 'shouldn', \"shouldn't\", 'wasn', \"wasn't\", 'weren', \"weren't\", 'won', \"won't\", 'wouldn', \"wouldn't\", '!', '\"', '#', '$', '%', '&', \"'\", '(', ')', '*', '+', ',', '-', '.', '/', ':', ';', '<', '=', '>', '?', '@', '[', '\\\\', ']', '^', '_', '`', '{', '|', '}', '~', 'lenevo']\n"
     ]
    }
   ],
   "source": [
    "stop_new=['lenevo']\n",
    "stop_punc=list(punctuation)\n",
    "stopword=stopwords.words('english')\n",
    "stopnltk=stopword+stop_punc+stop_new\n",
    "print(stopnltk)"
   ]
  },
  {
   "cell_type": "code",
   "execution_count": 18,
   "metadata": {},
   "outputs": [
    {
     "name": "stdout",
     "output_type": "stream",
     "text": [
      "['phone', 'everthey', 'phone', 'problem', 'amazon', 'phone', 'amazon']\n"
     ]
    }
   ],
   "source": [
    "review_sw=[]\n",
    "for term in review_lema:\n",
    "    re=[s for s in term if s not in stopnltk]\n",
    "    review_sw.append(re)\n",
    "    \n",
    "print(review_sw[4])"
   ]
  },
  {
   "cell_type": "markdown",
   "metadata": {},
   "source": [
    "<h2 style=\"color:Green\"> 8).Creating a topic model using LDA and downloading required libraries</h2>   "
   ]
  },
  {
   "cell_type": "code",
   "execution_count": 20,
   "metadata": {},
   "outputs": [
    {
     "name": "stdout",
     "output_type": "stream",
     "text": [
      "Requirement already satisfied: pyLDAvis in c:\\users\\welcome\\anaconda32bit\\anaconda64bit\\lib\\site-packages (2.1.2)\n",
      "Requirement already satisfied: funcy in c:\\users\\welcome\\anaconda32bit\\anaconda64bit\\lib\\site-packages (from pyLDAvis) (1.15)\n",
      "Requirement already satisfied: wheel>=0.23.0 in c:\\users\\welcome\\anaconda32bit\\anaconda64bit\\lib\\site-packages (from pyLDAvis) (0.34.2)\n",
      "Requirement already satisfied: jinja2>=2.7.2 in c:\\users\\welcome\\anaconda32bit\\anaconda64bit\\lib\\site-packages (from pyLDAvis) (2.11.2)\n",
      "Requirement already satisfied: numpy>=1.9.2 in c:\\users\\welcome\\anaconda32bit\\anaconda64bit\\lib\\site-packages (from pyLDAvis) (1.19.4)\n",
      "Requirement already satisfied: numexpr in c:\\users\\welcome\\anaconda32bit\\anaconda64bit\\lib\\site-packages (from pyLDAvis) (2.7.1)\n",
      "Requirement already satisfied: pytest in c:\\users\\welcome\\anaconda32bit\\anaconda64bit\\lib\\site-packages (from pyLDAvis) (5.4.3)\n",
      "Requirement already satisfied: pandas>=0.17.0 in c:\\users\\welcome\\anaconda32bit\\anaconda64bit\\lib\\site-packages (from pyLDAvis) (1.0.5)\n",
      "Requirement already satisfied: joblib>=0.8.4 in c:\\users\\welcome\\anaconda32bit\\anaconda64bit\\lib\\site-packages (from pyLDAvis) (0.16.0)\n",
      "Requirement already satisfied: future in c:\\users\\welcome\\anaconda32bit\\anaconda64bit\\lib\\site-packages (from pyLDAvis) (0.18.2)\n",
      "Requirement already satisfied: scipy>=0.18.0 in c:\\users\\welcome\\anaconda32bit\\anaconda64bit\\lib\\site-packages (from pyLDAvis) (1.5.0)\n",
      "Requirement already satisfied: MarkupSafe>=0.23 in c:\\users\\welcome\\anaconda32bit\\anaconda64bit\\lib\\site-packages (from jinja2>=2.7.2->pyLDAvis) (1.1.1)\n",
      "Requirement already satisfied: py>=1.5.0 in c:\\users\\welcome\\anaconda32bit\\anaconda64bit\\lib\\site-packages (from pytest->pyLDAvis) (1.9.0)\n",
      "Requirement already satisfied: packaging in c:\\users\\welcome\\anaconda32bit\\anaconda64bit\\lib\\site-packages (from pytest->pyLDAvis) (20.4)\n",
      "Requirement already satisfied: attrs>=17.4.0 in c:\\users\\welcome\\anaconda32bit\\anaconda64bit\\lib\\site-packages (from pytest->pyLDAvis) (19.3.0)\n",
      "Requirement already satisfied: more-itertools>=4.0.0 in c:\\users\\welcome\\anaconda32bit\\anaconda64bit\\lib\\site-packages (from pytest->pyLDAvis) (8.4.0)\n",
      "Requirement already satisfied: pluggy<1.0,>=0.12 in c:\\users\\welcome\\anaconda32bit\\anaconda64bit\\lib\\site-packages (from pytest->pyLDAvis) (0.13.1)\n",
      "Requirement already satisfied: wcwidth in c:\\users\\welcome\\anaconda32bit\\anaconda64bit\\lib\\site-packages (from pytest->pyLDAvis) (0.2.5)\n",
      "Requirement already satisfied: atomicwrites>=1.0 in c:\\users\\welcome\\anaconda32bit\\anaconda64bit\\lib\\site-packages (from pytest->pyLDAvis) (1.4.0)\n",
      "Requirement already satisfied: colorama in c:\\users\\welcome\\anaconda32bit\\anaconda64bit\\lib\\site-packages (from pytest->pyLDAvis) (0.4.3)\n",
      "Requirement already satisfied: python-dateutil>=2.6.1 in c:\\users\\welcome\\anaconda32bit\\anaconda64bit\\lib\\site-packages (from pandas>=0.17.0->pyLDAvis) (2.8.1)\n",
      "Requirement already satisfied: pytz>=2017.2 in c:\\users\\welcome\\anaconda32bit\\anaconda64bit\\lib\\site-packages (from pandas>=0.17.0->pyLDAvis) (2020.1)\n",
      "Requirement already satisfied: pyparsing>=2.0.2 in c:\\users\\welcome\\anaconda32bit\\anaconda64bit\\lib\\site-packages (from packaging->pytest->pyLDAvis) (2.4.7)\n",
      "Requirement already satisfied: six in c:\\users\\welcome\\anaconda32bit\\anaconda64bit\\lib\\site-packages (from packaging->pytest->pyLDAvis) (1.15.0)\n"
     ]
    }
   ],
   "source": [
    "!pip install pyLDAvis"
   ]
  },
  {
   "cell_type": "code",
   "execution_count": 21,
   "metadata": {},
   "outputs": [],
   "source": [
    "import gensim\n",
    "import logging\n",
    "import pyLDAvis.gensim\n",
    "import json\n",
    "import warnings\n",
    "warnings.filterwarnings('ignore')\n",
    "from gensim.models.coherencemodel import CoherenceModel\n",
    "from gensim.models.ldamodel import LdaModel\n",
    "from gensim.models.hdpmodel import HdpModel\n",
    "from gensim.models.wrappers import LdaVowpalWabbit, LdaMallet\n",
    "from gensim.corpora.dictionary import Dictionary"
   ]
  },
  {
   "cell_type": "code",
   "execution_count": 22,
   "metadata": {},
   "outputs": [
    {
     "name": "stdout",
     "output_type": "stream",
     "text": [
      "0 improvement\n",
      "1 update\n",
      "2 amazon\n",
      "3 backup\n",
      "4 battery\n",
      "5 charger\n",
      "6 discharged.this\n",
      "7 hell\n",
      "8 hour\n",
      "9 idle\n",
      "10 lenove\n",
      "11 lie\n",
      "12 mobile\n"
     ]
    }
   ],
   "source": [
    "#printing the top 12 topics\n",
    "dictionary=gensim.corpora.Dictionary(review_sw)\n",
    "\n",
    "count=0\n",
    "for k,v in dictionary.iteritems():\n",
    "    print(k,v)\n",
    "    count+=1\n",
    "    if count>12:\n",
    "        break"
   ]
  },
  {
   "cell_type": "code",
   "execution_count": 23,
   "metadata": {},
   "outputs": [],
   "source": [
    "coprus=[dictionary.doc2bow(doc) for doc in review_sw]"
   ]
  },
  {
   "cell_type": "code",
   "execution_count": 24,
   "metadata": {},
   "outputs": [
    {
     "data": {
      "text/plain": [
       "[[('improvement', 1), ('update', 1)],\n",
       " [('amazon', 1),\n",
       "  ('backup', 1),\n",
       "  ('battery', 2),\n",
       "  ('charger', 1),\n",
       "  ('discharged.this', 1),\n",
       "  ('hell', 1),\n",
       "  ('hour', 2),\n",
       "  ('idle', 1),\n",
       "  ('lenove', 1),\n",
       "  ('lie', 1),\n",
       "  ('mobile', 1),\n",
       "  ('us', 1)]]"
      ]
     },
     "execution_count": 24,
     "metadata": {},
     "output_type": "execute_result"
    }
   ],
   "source": [
    "[[(dictionary[id],freq) for id,freq in cp] for cp in coprus[0:2]]"
   ]
  },
  {
   "cell_type": "code",
   "execution_count": 25,
   "metadata": {},
   "outputs": [],
   "source": [
    "goodLdamodel=LdaModel(corpus=coprus,id2word=dictionary,iterations=50,num_topics=2)\n",
    "badLdamodel=LdaModel(corpus=coprus,id2word=dictionary,iterations=1,num_topics=2)"
   ]
  },
  {
   "cell_type": "code",
   "execution_count": 43,
   "metadata": {},
   "outputs": [
    {
     "data": {
      "text/plain": [
       "<gensim.models.coherencemodel.CoherenceModel at 0x1db838d8b80>"
      ]
     },
     "execution_count": 43,
     "metadata": {},
     "output_type": "execute_result"
    }
   ],
   "source": [
    "goodcm = CoherenceModel(model=goodLdamodel, texts=review_sw, dictionary=dictionary, coherence='c_v')\n",
    "goodcm"
   ]
  },
  {
   "cell_type": "code",
   "execution_count": 46,
   "metadata": {},
   "outputs": [
    {
     "name": "stdout",
     "output_type": "stream",
     "text": [
      "0.49257490280998817\n"
     ]
    }
   ],
   "source": [
    "print(goodcm.get_coherence())"
   ]
  },
  {
   "cell_type": "code",
   "execution_count": 47,
   "metadata": {},
   "outputs": [
    {
     "data": {
      "text/plain": [
       "<gensim.models.coherencemodel.CoherenceModel at 0x1db83914820>"
      ]
     },
     "execution_count": 47,
     "metadata": {},
     "output_type": "execute_result"
    }
   ],
   "source": [
    "badcm = CoherenceModel(model=badLdamodel, texts=review_sw, dictionary=dictionary, coherence='c_v')\n",
    "badcm"
   ]
  },
  {
   "cell_type": "code",
   "execution_count": 48,
   "metadata": {},
   "outputs": [
    {
     "name": "stdout",
     "output_type": "stream",
     "text": [
      "0.49819327374179967\n"
     ]
    }
   ],
   "source": [
    "print(badcm.get_coherence())"
   ]
  },
  {
   "cell_type": "markdown",
   "metadata": {},
   "source": [
    "<h2 style=\"color:Green\">9). Analyze the topics through the business lens.</h2>  "
   ]
  },
  {
   "cell_type": "code",
   "execution_count": 26,
   "metadata": {},
   "outputs": [
    {
     "data": {
      "text/html": [
       "\n",
       "<link rel=\"stylesheet\" type=\"text/css\" href=\"https://cdn.rawgit.com/bmabey/pyLDAvis/files/ldavis.v1.0.0.css\">\n",
       "\n",
       "\n",
       "<div id=\"ldavis_el27027220423121150245311750347\"></div>\n",
       "<script type=\"text/javascript\">\n",
       "\n",
       "var ldavis_el27027220423121150245311750347_data = {\"mdsDat\": {\"x\": [0.009433314204216002, -0.009433314204216002], \"y\": [0.0, 0.0], \"topics\": [1, 2], \"cluster\": [1, 1], \"Freq\": [50.05686950683594, 49.9431266784668]}, \"tinfo\": {\"Term\": [\"problem\", \"heating\", \"..\", \"performance\", \"price\", \"battery\", \"heat\", \"software\", \"day\", \"ok\", \"month\", \"backup\", \"amazon\", \"time\", \"quality\", \"note\", \"service\", \"bit\", \".....\", \"app\", \"screen\", \"call\", \"network\", \"....\", \"please\", \"class\", \"phone\", \"sound\", \"money\", \"cam\", \"ok\", \"osm\", \"record\", \"ph\", \"awsome\", \"screenshot\", \"last\", \"cheat\", \"batery\", \"vibe\", \"vodafone\", \"awesome\", \"wow\", \"span\", \"view\", \"id\", \"reality\", \"capacity\", \"sims\", \"fraud\", \"thanx\", \"flash\", \"word\", \"good.camera\", \"copy\", \"ka\", \"performance\", \"india\", \"excellent\", \"thank\", \"app\", \"strength\", \"..\", \"jio\", \"k\", \"day\", \"amazon\", \"service\", \"set\", \"time\", \"screen\", \"note\", \"call\", \"model\", \"quality\", \"waste\", \"handset\", \"condition\", \"signal\", \"product\", \"camera\", \"update\", \"delivery\", \"phone\", \"issue\", \"k8\", \"range\", \"mode\", \"ram\", \"life\", \"feature\", \"mobile\", \"hour\", \"battery\", \"lenovo\", \"sim\", \"device\", \"charger\", \"problem\", \"....\", \"money\", \"price\", \"network\", \"west\", \"processer\", \"yesterday\", \"mila\", \"class\", \"a6000\", \"cam\", \"heating\", \"amount\", \"decacore\", \"fine\", \"........\", \"mind\", \"china\", \"battry\", \"heat\", \"switch\", \"verry\", \"satisfactory\", \"pls\", \"bit\", \"blowing\", \"th\", \"problem\", \"snapdragon\", \"software\", \"buying\", \"amazing\", \"defect\", \"percentage\", \"price\", \".....\", \"month\", \"please\", \"......\", \"plz\", \"gud\", \"backup\", \"battery\", \"specification\", \"phone\", \"sound\", \"network\", \"....\", \"money\", \"everything\", \"piece\", \"processor\", \"mobile\", \"camera\", \"display\", \"product\", \"lenovo\", \"issue\", \"lot\", \"feature\", \"thing\", \"purchase\", \"quality\", \"note\", \"charger\", \"time\", \"..\", \"day\", \"device\", \"k8\", \"performance\", \"screen\"], \"Freq\": [1381.0, 532.0, 1354.0, 807.0, 843.0, 2803.0, 334.0, 319.0, 846.0, 82.0, 452.0, 503.0, 505.0, 868.0, 1262.0, 1034.0, 463.0, 168.0, 246.0, 198.0, 507.0, 456.0, 525.0, 589.0, 178.0, 71.0, 6502.0, 309.0, 553.0, 68.0, 73.23861694335938, 4.678206920623779, 17.33946418762207, 15.394366264343262, 7.912466526031494, 7.40889310836792, 5.7160234451293945, 4.252706527709961, 8.465326309204102, 23.700712203979492, 8.233590126037598, 47.805301666259766, 9.239555358886719, 3.0376532077789307, 10.709470748901367, 11.989408493041992, 11.577637672424316, 28.938684463500977, 15.685922622680664, 12.586012840270996, 3.207796096801758, 70.13284301757812, 22.687854766845703, 4.153838157653809, 11.700750350952148, 20.031139373779297, 570.2620239257812, 8.315155029296875, 58.420860290527344, 23.439083099365234, 138.33773803710938, 28.430997848510742, 895.2371826171875, 93.49222564697266, 49.045536041259766, 534.1680297851562, 325.1034851074219, 297.6878967285156, 58.46092224121094, 528.8922119140625, 314.3724365234375, 618.2218017578125, 283.5787658691406, 90.07586669921875, 744.2077026367188, 168.28762817382812, 128.19107055664062, 61.92531967163086, 67.631103515625, 1091.50537109375, 1553.1962890625, 223.35682678222656, 149.3813934326172, 3059.655029296875, 687.122802734375, 305.4002685546875, 196.3868865966797, 200.53839111328125, 116.85135650634766, 178.6480712890625, 406.84344482421875, 678.491943359375, 229.06407165527344, 1118.737548828125, 379.9617919921875, 152.36380004882812, 212.31324768066406, 211.7957763671875, 384.9007873535156, 234.56947326660156, 221.91110229492188, 265.22503662109375, 205.40853881835938, 9.700904846191406, 17.668975830078125, 26.31293487548828, 9.844378471374512, 55.793453216552734, 8.973204612731934, 52.84683609008789, 406.70159912109375, 28.464689254760742, 8.253910064697266, 27.057125091552734, 11.173553466796875, 24.705862045288086, 20.231700897216797, 13.252443313598633, 245.68594360351562, 21.32000732421875, 4.076560020446777, 4.339657783508301, 49.62412643432617, 122.1151351928711, 9.049464225769043, 2.7841482162475586, 996.7440795898438, 5.588260650634766, 228.6597900390625, 28.613569259643555, 4.966789245605469, 26.696441650390625, 16.19289779663086, 578.0941162109375, 167.95277404785156, 303.9029541015625, 121.81550598144531, 62.13418960571289, 49.74496841430664, 34.880645751953125, 325.46575927734375, 1684.542724609375, 67.74475860595703, 3443.313232421875, 196.43307495117188, 319.9591979980469, 355.19427490234375, 331.39471435546875, 145.5312957763672, 74.76402282714844, 180.81900024414062, 751.7203979492188, 1433.1781005859375, 197.861328125, 947.46923828125, 398.9681091308594, 614.3594970703125, 154.6800079345703, 382.9541015625, 118.66229248046875, 85.36431884765625, 518.7825317382812, 416.43634033203125, 200.9989776611328, 339.20208740234375, 459.6571044921875, 312.5033264160156, 201.16184997558594, 229.14254760742188, 236.81126403808594, 192.94769287109375], \"Total\": [1381.0, 532.0, 1354.0, 807.0, 843.0, 2803.0, 334.0, 319.0, 846.0, 82.0, 452.0, 503.0, 505.0, 868.0, 1262.0, 1034.0, 463.0, 168.0, 246.0, 198.0, 507.0, 456.0, 525.0, 589.0, 178.0, 71.0, 6502.0, 309.0, 553.0, 68.0, 82.48194885253906, 6.042000770568848, 22.685022354125977, 20.21308708190918, 10.449636459350586, 9.841724395751953, 7.636802673339844, 5.7498955726623535, 11.474981307983398, 32.21118927001953, 11.21231746673584, 65.18769073486328, 12.733833312988281, 4.200043678283691, 14.82376766204834, 16.643810272216797, 16.096403121948242, 40.26679229736328, 21.834318161010742, 17.55018424987793, 4.474939823150635, 98.2210464477539, 31.882383346557617, 5.846992015838623, 16.48243522644043, 28.26031494140625, 807.0733032226562, 11.811750411987305, 83.0579833984375, 33.55070877075195, 198.7232666015625, 40.7253303527832, 1354.894287109375, 137.15750122070312, 71.5630874633789, 846.67138671875, 505.5406799316406, 463.9242248535156, 86.7276840209961, 868.0942993164062, 507.32012939453125, 1034.658203125, 456.1201171875, 136.5186309814453, 1262.990234375, 264.693359375, 201.2548370361328, 93.47699737548828, 102.83580017089844, 2038.974609375, 2986.37451171875, 375.6612548828125, 243.22955322265625, 6502.96826171875, 1301.4822998046875, 534.5428466796875, 332.6432800292969, 343.9816589355469, 189.35507202148438, 306.5870361328125, 789.7975463867188, 1430.21240234375, 412.706298828125, 2803.2802734375, 778.929931640625, 260.0778503417969, 413.47509765625, 412.79473876953125, 1381.6448974609375, 589.7637329101562, 553.3057861328125, 843.3191528320312, 525.3677368164062, 11.271791458129883, 21.34497833251953, 31.856904983520508, 12.538015365600586, 71.16667175292969, 11.472885131835938, 68.61981201171875, 532.1741333007812, 37.27484130859375, 10.892767906188965, 36.14426040649414, 14.965080261230469, 33.468727111816406, 27.437480926513672, 18.006072998046875, 334.39862060546875, 29.05512809753418, 5.564904689788818, 5.958518981933594, 68.38768768310547, 168.7698516845703, 12.5191650390625, 3.856812000274658, 1381.6448974609375, 7.796377658843994, 319.46490478515625, 40.28083801269531, 6.998552322387695, 37.671058654785156, 22.924837112426758, 843.3191528320312, 246.09994506835938, 452.5250244140625, 178.13833618164062, 89.66962432861328, 71.74251556396484, 49.79423141479492, 503.1077880859375, 2803.2802734375, 99.79991149902344, 6502.96826171875, 309.3052978515625, 525.3677368164062, 589.7637329101562, 553.3057861328125, 231.22549438476562, 112.252197265625, 294.6161193847656, 1430.21240234375, 2986.37451171875, 332.4649658203125, 2038.974609375, 778.929931640625, 1301.4822998046875, 265.75262451171875, 789.7975463867188, 196.5837860107422, 132.14283752441406, 1262.990234375, 1034.658203125, 412.79473876953125, 868.0942993164062, 1354.894287109375, 846.67138671875, 413.47509765625, 534.5428466796875, 807.0733032226562, 507.32012939453125], \"Category\": [\"Default\", \"Default\", \"Default\", \"Default\", \"Default\", \"Default\", \"Default\", \"Default\", \"Default\", \"Default\", \"Default\", \"Default\", \"Default\", \"Default\", \"Default\", \"Default\", \"Default\", \"Default\", \"Default\", \"Default\", \"Default\", \"Default\", \"Default\", \"Default\", \"Default\", \"Default\", \"Default\", \"Default\", \"Default\", \"Default\", \"Topic1\", \"Topic1\", \"Topic1\", \"Topic1\", \"Topic1\", \"Topic1\", \"Topic1\", \"Topic1\", \"Topic1\", \"Topic1\", \"Topic1\", \"Topic1\", \"Topic1\", \"Topic1\", \"Topic1\", \"Topic1\", \"Topic1\", \"Topic1\", \"Topic1\", \"Topic1\", \"Topic1\", \"Topic1\", \"Topic1\", \"Topic1\", \"Topic1\", \"Topic1\", \"Topic1\", \"Topic1\", \"Topic1\", \"Topic1\", \"Topic1\", \"Topic1\", \"Topic1\", \"Topic1\", \"Topic1\", \"Topic1\", \"Topic1\", \"Topic1\", \"Topic1\", \"Topic1\", \"Topic1\", \"Topic1\", \"Topic1\", \"Topic1\", \"Topic1\", \"Topic1\", \"Topic1\", \"Topic1\", \"Topic1\", \"Topic1\", \"Topic1\", \"Topic1\", \"Topic1\", \"Topic1\", \"Topic1\", \"Topic1\", \"Topic1\", \"Topic1\", \"Topic1\", \"Topic1\", \"Topic1\", \"Topic1\", \"Topic1\", \"Topic1\", \"Topic1\", \"Topic1\", \"Topic1\", \"Topic1\", \"Topic1\", \"Topic1\", \"Topic1\", \"Topic1\", \"Topic1\", \"Topic2\", \"Topic2\", \"Topic2\", \"Topic2\", \"Topic2\", \"Topic2\", \"Topic2\", \"Topic2\", \"Topic2\", \"Topic2\", \"Topic2\", \"Topic2\", \"Topic2\", \"Topic2\", \"Topic2\", \"Topic2\", \"Topic2\", \"Topic2\", \"Topic2\", \"Topic2\", \"Topic2\", \"Topic2\", \"Topic2\", \"Topic2\", \"Topic2\", \"Topic2\", \"Topic2\", \"Topic2\", \"Topic2\", \"Topic2\", \"Topic2\", \"Topic2\", \"Topic2\", \"Topic2\", \"Topic2\", \"Topic2\", \"Topic2\", \"Topic2\", \"Topic2\", \"Topic2\", \"Topic2\", \"Topic2\", \"Topic2\", \"Topic2\", \"Topic2\", \"Topic2\", \"Topic2\", \"Topic2\", \"Topic2\", \"Topic2\", \"Topic2\", \"Topic2\", \"Topic2\", \"Topic2\", \"Topic2\", \"Topic2\", \"Topic2\", \"Topic2\", \"Topic2\", \"Topic2\", \"Topic2\", \"Topic2\", \"Topic2\", \"Topic2\", \"Topic2\", \"Topic2\", \"Topic2\", \"Topic2\"], \"logprob\": [30.0, 29.0, 28.0, 27.0, 26.0, 25.0, 24.0, 23.0, 22.0, 21.0, 20.0, 19.0, 18.0, 17.0, 16.0, 15.0, 14.0, 13.0, 12.0, 11.0, 10.0, 9.0, 8.0, 7.0, 6.0, 5.0, 4.0, 3.0, 2.0, 1.0, -6.413300037384033, -9.16409969329834, -7.854000091552734, -7.9730000495910645, -8.63860034942627, -8.704299926757812, -8.963800430297852, -9.259499549865723, -8.571100234985352, -7.541500091552734, -8.598799705505371, -6.839900016784668, -8.483499526977539, -9.59589958190918, -8.33590030670166, -8.222999572753906, -8.258000373840332, -7.341800212860107, -7.9542999267578125, -8.174400329589844, -9.541399955749512, -6.456600189208984, -7.58519983291626, -9.282999992370605, -8.247400283813477, -7.709700107574463, -4.360899925231934, -8.58899974822998, -6.639400005340576, -7.552599906921387, -5.777299880981445, -7.359499931335449, -3.909899950027466, -6.1691999435424805, -6.814300060272217, -4.426300048828125, -4.922900199890137, -5.011000156402588, -6.638700008392334, -4.436200141906738, -4.956500053405762, -4.280200004577637, -5.059500217437744, -6.206399917602539, -4.094699859619141, -5.581399917602539, -5.853499889373779, -6.581099987030029, -6.493000030517578, -3.711699962615967, -3.3589999675750732, -5.298299789428711, -5.700500011444092, -2.680999994277954, -4.174499988555908, -4.985400199890137, -5.4268999099731445, -5.406000137329102, -5.946100234985352, -5.521599769592285, -4.698599815368652, -4.18720006942749, -5.2729997634887695, -3.6870999336242676, -4.767000198364258, -5.680799961090088, -5.348999977111816, -5.351399898529053, -4.754000186920166, -5.249300003051758, -5.304800033569336, -5.126500129699707, -5.381999969482422, -8.432499885559082, -7.832900047302246, -7.434700012207031, -8.417900085449219, -6.68310022354126, -8.510499954223633, -6.737400054931641, -4.696700096130371, -7.356100082397461, -8.594099998474121, -7.406799793243408, -8.291199684143066, -7.497700214385986, -7.697500228881836, -8.120599746704102, -5.200699806213379, -7.645100116729736, -9.299500465393066, -9.237000465393066, -6.800300121307373, -5.899799823760986, -8.501999855041504, -9.680800437927246, -3.800299882888794, -8.984100341796875, -5.272500038146973, -7.350900173187256, -9.10200023651123, -7.420199871063232, -7.920199871063232, -4.34499979019165, -5.581099987030029, -4.98799991607666, -5.902200222015381, -6.575500011444092, -6.797800064086914, -7.1528000831604, -4.91949987411499, -3.2755000591278076, -6.488999843597412, -2.5606000423431396, -5.4243998527526855, -4.936600208282471, -4.832099914550781, -4.901400089263916, -5.724400043487549, -6.390399932861328, -5.507299900054932, -4.082399845123291, -3.4370999336242676, -5.417200088500977, -3.8510000705718994, -4.71589994430542, -4.284200191497803, -5.663400173187256, -4.756800174713135, -5.928500175476074, -6.257800102233887, -4.4532999992370605, -4.672999858856201, -5.401500225067139, -4.878200054168701, -4.5742998123168945, -4.960100173950195, -5.400599956512451, -5.270400047302246, -5.237500190734863, -5.442299842834473], \"loglift\": [30.0, 29.0, 28.0, 27.0, 26.0, 25.0, 24.0, 23.0, 22.0, 21.0, 20.0, 19.0, 18.0, 17.0, 16.0, 15.0, 14.0, 13.0, 12.0, 11.0, 10.0, 9.0, 8.0, 7.0, 6.0, 5.0, 4.0, 3.0, 2.0, 1.0, 0.573199987411499, 0.43619999289512634, 0.42329999804496765, 0.4196999967098236, 0.4138999879360199, 0.4081000089645386, 0.40230000019073486, 0.3903999924659729, 0.387800008058548, 0.38519999384880066, 0.3831999897956848, 0.38190001249313354, 0.37119999527931213, 0.36800000071525574, 0.3668999969959259, 0.36399999260902405, 0.36250001192092896, 0.36169999837875366, 0.361299991607666, 0.359499990940094, 0.35910001397132874, 0.35519999265670776, 0.35179999470710754, 0.35010001063346863, 0.34940001368522644, 0.34779998660087585, 0.34470000863075256, 0.3409999907016754, 0.3400999903678894, 0.33340001106262207, 0.329800009727478, 0.3325999975204468, 0.2775999903678894, 0.30880001187324524, 0.3142000138759613, 0.2313999980688095, 0.25049999356269836, 0.2483000010251999, 0.29760000109672546, 0.1965000033378601, 0.2134000062942505, 0.1770000010728836, 0.2167000025510788, 0.27619999647140503, 0.163100004196167, 0.23909999430179596, 0.2409999966621399, 0.2802000045776367, 0.2728999853134155, 0.06710000336170197, 0.03830000013113022, 0.1720999926328659, 0.2045000046491623, -0.061900001019239426, 0.053300000727176666, 0.13220000267028809, 0.16500000655651093, 0.15240000188350677, 0.2092999964952469, 0.15189999341964722, 0.028699999675154686, -0.053700000047683716, 0.10329999774694443, -0.22660000622272491, -0.025800000876188278, 0.15729999542236328, 0.025499999523162842, 0.024700000882148743, -0.5860000252723694, -0.23000000417232513, -0.2215999960899353, -0.46480000019073486, -0.24709999561309814, 0.5442000031471252, 0.505299985408783, 0.5030999779701233, 0.45239999890327454, 0.45089998841285706, 0.44850000739097595, 0.43309998512268066, 0.4253999888896942, 0.4246000051498413, 0.41690000891685486, 0.40470001101493835, 0.40209999680519104, 0.39070001244544983, 0.38960000872612, 0.387800008058548, 0.38600000739097595, 0.3847000002861023, 0.3831000030040741, 0.3772999942302704, 0.3736000061035156, 0.37070000171661377, 0.36970001459121704, 0.3684000074863434, 0.3677000105381012, 0.361299991607666, 0.35989999771118164, 0.3522999882698059, 0.3513999879360199, 0.3499000072479248, 0.3465999960899353, 0.3167000114917755, 0.31220000982284546, 0.2962000072002411, 0.3142000138759613, 0.32739999890327454, 0.3280999958515167, 0.3382999897003174, 0.25870001316070557, 0.1850000023841858, 0.3068999946117401, 0.05849999934434891, 0.2402999997138977, 0.19840000569820404, 0.18719999492168427, 0.18170000612735748, 0.2312999963760376, 0.28790000081062317, 0.2061000019311905, 0.051100000739097595, -0.039900001138448715, 0.1753000020980835, -0.07209999859333038, 0.025200000032782555, -0.05640000104904175, 0.15309999883174896, -0.029600000008940697, 0.18950000405311584, 0.2572999894618988, -0.19550000131130219, -0.21580000221729279, -0.02539999969303608, -0.24539999663829803, -0.38670000433921814, -0.30239999294281006, -0.026200000196695328, -0.15279999375343323, -0.5318999886512756, -0.27239999175071716]}, \"token.table\": {\"Topic\": [1, 2, 1, 2, 1, 2, 1, 2, 1, 2, 1, 2, 1, 2, 1, 2, 1, 2, 1, 2, 1, 2, 1, 2, 1, 2, 1, 2, 1, 2, 1, 2, 1, 2, 1, 2, 1, 2, 1, 2, 1, 2, 1, 2, 1, 2, 1, 2, 1, 2, 1, 2, 1, 2, 1, 2, 1, 2, 1, 2, 1, 2, 1, 2, 1, 2, 1, 2, 1, 2, 1, 2, 1, 2, 1, 2, 1, 2, 1, 2, 1, 2, 1, 2, 1, 2, 1, 2, 1, 2, 1, 2, 1, 2, 1, 2, 1, 2, 1, 2, 1, 2, 1, 2, 1, 2, 1, 2, 1, 2, 1, 2, 1, 2, 1, 2, 1, 2, 1, 2, 1, 2, 1, 2, 1, 2, 1, 2, 1, 2, 1, 2, 1, 2, 1, 2, 1, 2, 1, 2, 1, 2, 1, 2, 1, 2, 1, 2, 1, 2, 1, 2, 1, 2, 1, 2, 1, 2, 1, 2, 1, 2, 1, 2, 1, 2, 1, 2, 1, 2, 1, 2, 1, 2, 1, 2, 1, 2, 1, 2, 1, 2, 1, 2, 1, 2, 1, 2, 1, 2, 1, 2, 1, 2, 1, 2, 1, 2, 1, 2, 1, 2, 1, 2, 1, 2, 1, 2, 1, 2, 1, 2, 1, 2, 1, 2, 1, 2, 1, 2, 1, 2, 1, 2, 1, 2, 1, 2, 1, 2, 1, 2, 1, 2, 1, 2], \"Freq\": [0.660568118095398, 0.33950987458229065, 0.3984646499156952, 0.6019359827041626, 0.3169443905353546, 0.6826494932174683, 0.3122573494911194, 0.6914269924163818, 0.2672889232635498, 0.7350444793701172, 0.17432406544685364, 0.7844582796096802, 0.2857733964920044, 0.714433491230011, 0.6428760886192322, 0.356054425239563, 0.24144971370697021, 0.7511768937110901, 0.6944330334663391, 0.3019274175167084, 0.7363353371620178, 0.26078543066978455, 0.7655768990516663, 0.28709131479263306, 0.3538009226322174, 0.6459848284721375, 0.6971688866615295, 0.2614383399486542, 0.399175226688385, 0.6010815501213074, 0.2776840925216675, 0.7219786643981934, 0.2784857451915741, 0.7228779196739197, 0.23963259160518646, 0.7188977599143982, 0.29790839552879333, 0.7199453115463257, 0.622642993927002, 0.3792860507965088, 0.2331688106060028, 0.7723717093467712, 0.5200285315513611, 0.4798460602760315, 0.7201964259147644, 0.27317795157432556, 0.5135724544525146, 0.48692479729652405, 0.6956648230552673, 0.17391620576381683, 0.2551254630088806, 0.728929877281189, 0.2107728123664856, 0.7868852019309998, 0.6632647514343262, 0.3423302173614502, 0.7280477285385132, 0.3033532202243805, 0.6307051181793213, 0.3696829676628113, 0.27541208267211914, 0.7344322204589844, 0.292001336812973, 0.7167305946350098, 0.6125900149345398, 0.38646620512008667, 0.5127273797988892, 0.48612359166145325, 0.40605783462524414, 0.5955514907836914, 0.3719313144683838, 0.6314182877540588, 0.6983073353767395, 0.30099454522132874, 0.5153219103813171, 0.48493438959121704, 0.24900218844413757, 0.7470065951347351, 0.7126781940460205, 0.2850712835788727, 0.7407329678535461, 0.2848972976207733, 0.6841124296188354, 0.3420562148094177, 0.3012396991252899, 0.7028926610946655, 0.6360095739364624, 0.3627242147922516, 0.2661494314670563, 0.7356489896774292, 0.23488552868366241, 0.7647872567176819, 0.5548740029335022, 0.4458376467227936, 0.7209887504577637, 0.30041196942329407, 0.6772916316986084, 0.25398436188697815, 0.527859628200531, 0.471769779920578, 0.6780526041984558, 0.3207990825176239, 0.6847105622291565, 0.32139474153518677, 0.5705810189247131, 0.42840343713760376, 0.7077062129974365, 0.2830824851989746, 0.7856690883636475, 0.2618896961212158, 0.48784875869750977, 0.5122411847114563, 0.5838472843170166, 0.41749972105026245, 0.41768166422843933, 0.5832491517066956, 0.2392723113298416, 0.7975744009017944, 0.268907755613327, 0.7469659447669983, 0.4740554690361023, 0.5257960557937622, 0.5843334794044495, 0.4157198369503021, 0.6592506766319275, 0.3369503319263458, 0.4012247920036316, 0.598222553730011, 0.3292635679244995, 0.6717860698699951, 0.3902028799057007, 0.6090971827507019, 0.5972986817359924, 0.4020651578903198, 0.885042130947113, 0.10911478102207184, 0.8275404572486877, 0.16550809144973755, 0.30534568428993225, 0.6979329586029053, 0.7062555551528931, 0.2936536371707916, 0.7420934438705444, 0.24736449122428894, 0.4705543518066406, 0.529450535774231, 0.32961493730545044, 0.6681383848190308, 0.31436243653297424, 0.6848610043525696, 0.27782779932022095, 0.7311257719993591, 0.3066521883010864, 0.6969367861747742, 0.31423452496528625, 0.6853870153427124, 0.2786533534526825, 0.7216036319732666, 0.18739770352840424, 0.8432896733283997, 0.3869442045688629, 0.6143587827682495, 0.5355632901191711, 0.4644491374492645, 0.35567572712898254, 0.6432433128356934, 0.5890781879425049, 0.41092953085899353, 0.6178867816925049, 0.3855191171169281, 0.5892198085784912, 0.408846378326416, 0.7455081939697266, 0.31062841415405273, 0.749393105506897, 0.22040975093841553, 0.3356538712978363, 0.6713077425956726, 0.6189385652542114, 0.3804304003715515, 0.7112574577331543, 0.20321641862392426, 0.6423462629318237, 0.35781705379486084, 0.6687599420547485, 0.3228496313095093, 0.6612483263015747, 0.34034839272499084, 0.5844404101371765, 0.41526028513908386, 0.7327913641929626, 0.2747967541217804, 0.25652939081192017, 0.7695881724357605, 0.2848513126373291, 0.7168236374855042, 0.3653348386287689, 0.633678138256073, 0.7142782807350159, 0.23809276521205902, 0.32064157724380493, 0.6813633441925049, 0.6875327825546265, 0.294656902551651, 0.27533864974975586, 0.7227639555931091, 0.2592814862728119, 0.7778444886207581, 0.6855294704437256, 0.29805630445480347, 0.670400083065033, 0.223466694355011, 0.3967773914337158, 0.6053398251533508, 0.6093807816505432, 0.39051055908203125, 0.5936198830604553, 0.40461984276771545, 0.17969760298728943, 0.7187904119491577, 0.745082676410675, 0.27940601110458374, 0.7420515418052673, 0.2698369324207306, 0.7135010361671448, 0.2675628960132599, 0.6346967220306396, 0.36268383264541626, 0.17743408679962158, 0.8871704339981079, 0.7214015126228333, 0.2822875678539276, 0.7067785263061523, 0.23559284210205078, 0.18834221363067627, 0.8161495923995972], \"Term\": [\"..\", \"..\", \"....\", \"....\", \".....\", \".....\", \"......\", \"......\", \"........\", \"........\", \"a6000\", \"a6000\", \"amazing\", \"amazing\", \"amazon\", \"amazon\", \"amount\", \"amount\", \"app\", \"app\", \"awesome\", \"awesome\", \"awsome\", \"awsome\", \"backup\", \"backup\", \"batery\", \"batery\", \"battery\", \"battery\", \"battry\", \"battry\", \"bit\", \"bit\", \"blowing\", \"blowing\", \"buying\", \"buying\", \"call\", \"call\", \"cam\", \"cam\", \"camera\", \"camera\", \"capacity\", \"capacity\", \"charger\", \"charger\", \"cheat\", \"cheat\", \"china\", \"china\", \"class\", \"class\", \"condition\", \"condition\", \"copy\", \"copy\", \"day\", \"day\", \"decacore\", \"decacore\", \"defect\", \"defect\", \"delivery\", \"delivery\", \"device\", \"device\", \"display\", \"display\", \"everything\", \"everything\", \"excellent\", \"excellent\", \"feature\", \"feature\", \"fine\", \"fine\", \"flash\", \"flash\", \"fraud\", \"fraud\", \"good.camera\", \"good.camera\", \"gud\", \"gud\", \"handset\", \"handset\", \"heat\", \"heat\", \"heating\", \"heating\", \"hour\", \"hour\", \"id\", \"id\", \"india\", \"india\", \"issue\", \"issue\", \"jio\", \"jio\", \"k\", \"k\", \"k8\", \"k8\", \"ka\", \"ka\", \"last\", \"last\", \"lenovo\", \"lenovo\", \"life\", \"life\", \"lot\", \"lot\", \"mila\", \"mila\", \"mind\", \"mind\", \"mobile\", \"mobile\", \"mode\", \"mode\", \"model\", \"model\", \"money\", \"money\", \"month\", \"month\", \"network\", \"network\", \"note\", \"note\", \"ok\", \"ok\", \"osm\", \"osm\", \"percentage\", \"percentage\", \"performance\", \"performance\", \"ph\", \"ph\", \"phone\", \"phone\", \"piece\", \"piece\", \"please\", \"please\", \"pls\", \"pls\", \"plz\", \"plz\", \"price\", \"price\", \"problem\", \"problem\", \"processer\", \"processer\", \"processor\", \"processor\", \"product\", \"product\", \"purchase\", \"purchase\", \"quality\", \"quality\", \"ram\", \"ram\", \"range\", \"range\", \"reality\", \"reality\", \"record\", \"record\", \"satisfactory\", \"satisfactory\", \"screen\", \"screen\", \"screenshot\", \"screenshot\", \"service\", \"service\", \"set\", \"set\", \"signal\", \"signal\", \"sim\", \"sim\", \"sims\", \"sims\", \"snapdragon\", \"snapdragon\", \"software\", \"software\", \"sound\", \"sound\", \"span\", \"span\", \"specification\", \"specification\", \"strength\", \"strength\", \"switch\", \"switch\", \"th\", \"th\", \"thank\", \"thank\", \"thanx\", \"thanx\", \"thing\", \"thing\", \"time\", \"time\", \"update\", \"update\", \"verry\", \"verry\", \"vibe\", \"vibe\", \"view\", \"view\", \"vodafone\", \"vodafone\", \"waste\", \"waste\", \"west\", \"west\", \"word\", \"word\", \"wow\", \"wow\", \"yesterday\", \"yesterday\"]}, \"R\": 30, \"lambda.step\": 0.01, \"plot.opts\": {\"xlab\": \"PC1\", \"ylab\": \"PC2\"}, \"topic.order\": [2, 1]};\n",
       "\n",
       "function LDAvis_load_lib(url, callback){\n",
       "  var s = document.createElement('script');\n",
       "  s.src = url;\n",
       "  s.async = true;\n",
       "  s.onreadystatechange = s.onload = callback;\n",
       "  s.onerror = function(){console.warn(\"failed to load library \" + url);};\n",
       "  document.getElementsByTagName(\"head\")[0].appendChild(s);\n",
       "}\n",
       "\n",
       "if(typeof(LDAvis) !== \"undefined\"){\n",
       "   // already loaded: just create the visualization\n",
       "   !function(LDAvis){\n",
       "       new LDAvis(\"#\" + \"ldavis_el27027220423121150245311750347\", ldavis_el27027220423121150245311750347_data);\n",
       "   }(LDAvis);\n",
       "}else if(typeof define === \"function\" && define.amd){\n",
       "   // require.js is available: use it to load d3/LDAvis\n",
       "   require.config({paths: {d3: \"https://cdnjs.cloudflare.com/ajax/libs/d3/3.5.5/d3.min\"}});\n",
       "   require([\"d3\"], function(d3){\n",
       "      window.d3 = d3;\n",
       "      LDAvis_load_lib(\"https://cdn.rawgit.com/bmabey/pyLDAvis/files/ldavis.v1.0.0.js\", function(){\n",
       "        new LDAvis(\"#\" + \"ldavis_el27027220423121150245311750347\", ldavis_el27027220423121150245311750347_data);\n",
       "      });\n",
       "    });\n",
       "}else{\n",
       "    // require.js not available: dynamically load d3 & LDAvis\n",
       "    LDAvis_load_lib(\"https://cdnjs.cloudflare.com/ajax/libs/d3/3.5.5/d3.min.js\", function(){\n",
       "         LDAvis_load_lib(\"https://cdn.rawgit.com/bmabey/pyLDAvis/files/ldavis.v1.0.0.js\", function(){\n",
       "                 new LDAvis(\"#\" + \"ldavis_el27027220423121150245311750347\", ldavis_el27027220423121150245311750347_data);\n",
       "            })\n",
       "         });\n",
       "}\n",
       "</script>"
      ],
      "text/plain": [
       "PreparedData(topic_coordinates=              x    y  topics  cluster       Freq\n",
       "topic                                           \n",
       "1      0.009433  0.0       1        1  50.056870\n",
       "0     -0.009433  0.0       2        1  49.943127, topic_info=            Term         Freq        Total Category  logprob  loglift\n",
       "18       problem  1381.000000  1381.000000  Default  30.0000  30.0000\n",
       "77       heating   532.000000   532.000000  Default  29.0000  29.0000\n",
       "14            ..  1354.000000  1354.000000  Default  28.0000  28.0000\n",
       "84   performance   807.000000   807.000000  Default  27.0000  27.0000\n",
       "69         price   843.000000   843.000000  Default  26.0000  26.0000\n",
       "..           ...          ...          ...      ...      ...      ...\n",
       "94           day   312.503326   846.671387   Topic2  -4.9601  -0.3024\n",
       "133       device   201.161850   413.475098   Topic2  -5.4006  -0.0262\n",
       "22            k8   229.142548   534.542847   Topic2  -5.2704  -0.1528\n",
       "84   performance   236.811264   807.073303   Topic2  -5.2375  -0.5319\n",
       "42        screen   192.947693   507.320129   Topic2  -5.4423  -0.2724\n",
       "\n",
       "[171 rows x 6 columns], token_table=      Topic      Freq       Term\n",
       "term                            \n",
       "14        1  0.660568         ..\n",
       "14        2  0.339510         ..\n",
       "144       1  0.398465       ....\n",
       "144       2  0.601936       ....\n",
       "104       1  0.316944      .....\n",
       "...     ...       ...        ...\n",
       "1623      2  0.282288       word\n",
       "1119      1  0.706779        wow\n",
       "1119      2  0.235593        wow\n",
       "1228      1  0.188342  yesterday\n",
       "1228      2  0.816150  yesterday\n",
       "\n",
       "[236 rows x 3 columns], R=30, lambda_step=0.01, plot_opts={'xlab': 'PC1', 'ylab': 'PC2'}, topic_order=[2, 1])"
      ]
     },
     "execution_count": 26,
     "metadata": {},
     "output_type": "execute_result"
    }
   ],
   "source": [
    "pyLDAvis.enable_notebook()\n",
    "pyLDAvis.gensim.prepare(goodLdamodel,coprus,dictionary)\n",
    "pyLDAvis.gensim.prepare(badLdamodel,coprus,dictionary)"
   ]
  },
  {
   "cell_type": "markdown",
   "metadata": {},
   "source": [
    "<h2 style=\"color:Green\"> 10).Create a topic model using LDA with what you think is the optimal number of topics</h2>"
   ]
  },
  {
   "cell_type": "code",
   "execution_count": 49,
   "metadata": {},
   "outputs": [
    {
     "name": "stdout",
     "output_type": "stream",
     "text": [
      "[(0, [('camera', 0.041579448), ('phone', 0.03322596), ('problem', 0.026643459), ('issue', 0.026514238), ('battery', 0.01786581), ('..', 0.016838696), ('time', 0.0116701685), ('network', 0.01146728), ('feature', 0.010546616), ('product', 0.010529483)]), (1, [('phone', 0.113977656), ('battery', 0.045505762), ('product', 0.03559325), ('camera', 0.025046783), ('mobile', 0.024617963), ('quality', 0.02296977), ('price', 0.018236494), ('note', 0.014339959), ('..', 0.013421157), ('money', 0.010442639)])]\n"
     ]
    }
   ],
   "source": [
    "print(goodLdamodel.show_topics(formatted=False))"
   ]
  },
  {
   "cell_type": "code",
   "execution_count": 50,
   "metadata": {},
   "outputs": [
    {
     "name": "stdout",
     "output_type": "stream",
     "text": [
      "[(0, [('phone', 0.07726106), ('battery', 0.037797768), ('camera', 0.03215765), ('problem', 0.022364942), ('product', 0.021259313), ('mobile', 0.016867101), ('issue', 0.013784997), ('price', 0.012971275), ('quality', 0.011640443), ('..', 0.010313786)]), (1, [('phone', 0.06849654), ('camera', 0.034771428), ('battery', 0.025045194), ('product', 0.024435546), ('..', 0.020041687), ('quality', 0.016660588), ('issue', 0.015382627), ('mobile', 0.015189408), ('note', 0.01384014), ('performance', 0.012766464)])]\n"
     ]
    }
   ],
   "source": [
    "print(badLdamodel.show_topics(formatted=False))"
   ]
  },
  {
   "cell_type": "markdown",
   "metadata": {},
   "source": [
    "<h2 style=\"color:Green\"> 11).interpretation of topics</h2>   "
   ]
  },
  {
   "cell_type": "code",
   "execution_count": 34,
   "metadata": {},
   "outputs": [
    {
     "data": {
      "text/html": [
       "<div>\n",
       "<style scoped>\n",
       "    .dataframe tbody tr th:only-of-type {\n",
       "        vertical-align: middle;\n",
       "    }\n",
       "\n",
       "    .dataframe tbody tr th {\n",
       "        vertical-align: top;\n",
       "    }\n",
       "\n",
       "    .dataframe thead th {\n",
       "        text-align: right;\n",
       "    }\n",
       "</style>\n",
       "<table border=\"1\" class=\"dataframe\">\n",
       "  <thead>\n",
       "    <tr style=\"text-align: right;\">\n",
       "      <th></th>\n",
       "      <th>Document_No</th>\n",
       "      <th>Dominant_Topic</th>\n",
       "      <th>Topic_Perc_Contrib</th>\n",
       "      <th>Keywords</th>\n",
       "      <th>Text</th>\n",
       "    </tr>\n",
       "  </thead>\n",
       "  <tbody>\n",
       "    <tr>\n",
       "      <th>0</th>\n",
       "      <td>0</td>\n",
       "      <td>0.0</td>\n",
       "      <td>0.8246</td>\n",
       "      <td>camera, phone, problem, issue, battery, .., ti...</td>\n",
       "      <td>[update, improvement]</td>\n",
       "    </tr>\n",
       "    <tr>\n",
       "      <th>1</th>\n",
       "      <td>1</td>\n",
       "      <td>1.0</td>\n",
       "      <td>0.6342</td>\n",
       "      <td>phone, battery, product, camera, mobile, quali...</td>\n",
       "      <td>[mobile, battery, hell, backup, hour, us, idle...</td>\n",
       "    </tr>\n",
       "    <tr>\n",
       "      <th>2</th>\n",
       "      <td>2</td>\n",
       "      <td>0.0</td>\n",
       "      <td>0.8082</td>\n",
       "      <td>camera, phone, problem, issue, battery, .., ti...</td>\n",
       "      <td>[cash, ..]</td>\n",
       "    </tr>\n",
       "    <tr>\n",
       "      <th>3</th>\n",
       "      <td>3</td>\n",
       "      <td>0.0</td>\n",
       "      <td>0.5000</td>\n",
       "      <td>camera, phone, problem, issue, battery, .., ti...</td>\n",
       "      <td>[]</td>\n",
       "    </tr>\n",
       "    <tr>\n",
       "      <th>4</th>\n",
       "      <td>4</td>\n",
       "      <td>0.0</td>\n",
       "      <td>0.5528</td>\n",
       "      <td>camera, phone, problem, issue, battery, .., ti...</td>\n",
       "      <td>[phone, everthey, phone, problem, amazon, phon...</td>\n",
       "    </tr>\n",
       "    <tr>\n",
       "      <th>5</th>\n",
       "      <td>5</td>\n",
       "      <td>1.0</td>\n",
       "      <td>0.7736</td>\n",
       "      <td>phone, battery, product, camera, mobile, quali...</td>\n",
       "      <td>[camerawaste, money]</td>\n",
       "    </tr>\n",
       "    <tr>\n",
       "      <th>6</th>\n",
       "      <td>6</td>\n",
       "      <td>1.0</td>\n",
       "      <td>0.8144</td>\n",
       "      <td>phone, battery, product, camera, mobile, quali...</td>\n",
       "      <td>[phone, allot, .., reason, k8]</td>\n",
       "    </tr>\n",
       "    <tr>\n",
       "      <th>7</th>\n",
       "      <td>7</td>\n",
       "      <td>1.0</td>\n",
       "      <td>0.8020</td>\n",
       "      <td>phone, battery, product, camera, mobile, quali...</td>\n",
       "      <td>[battery, level]</td>\n",
       "    </tr>\n",
       "    <tr>\n",
       "      <th>8</th>\n",
       "      <td>8</td>\n",
       "      <td>1.0</td>\n",
       "      <td>0.8001</td>\n",
       "      <td>phone, battery, product, camera, mobile, quali...</td>\n",
       "      <td>[problem, phone, hanging, problem, note, stati...</td>\n",
       "    </tr>\n",
       "    <tr>\n",
       "      <th>9</th>\n",
       "      <td>9</td>\n",
       "      <td>1.0</td>\n",
       "      <td>0.7811</td>\n",
       "      <td>phone, battery, product, camera, mobile, quali...</td>\n",
       "      <td>[lot, glitch, thing, option]</td>\n",
       "    </tr>\n",
       "  </tbody>\n",
       "</table>\n",
       "</div>"
      ],
      "text/plain": [
       "   Document_No  Dominant_Topic  Topic_Perc_Contrib  \\\n",
       "0            0             0.0              0.8246   \n",
       "1            1             1.0              0.6342   \n",
       "2            2             0.0              0.8082   \n",
       "3            3             0.0              0.5000   \n",
       "4            4             0.0              0.5528   \n",
       "5            5             1.0              0.7736   \n",
       "6            6             1.0              0.8144   \n",
       "7            7             1.0              0.8020   \n",
       "8            8             1.0              0.8001   \n",
       "9            9             1.0              0.7811   \n",
       "\n",
       "                                            Keywords  \\\n",
       "0  camera, phone, problem, issue, battery, .., ti...   \n",
       "1  phone, battery, product, camera, mobile, quali...   \n",
       "2  camera, phone, problem, issue, battery, .., ti...   \n",
       "3  camera, phone, problem, issue, battery, .., ti...   \n",
       "4  camera, phone, problem, issue, battery, .., ti...   \n",
       "5  phone, battery, product, camera, mobile, quali...   \n",
       "6  phone, battery, product, camera, mobile, quali...   \n",
       "7  phone, battery, product, camera, mobile, quali...   \n",
       "8  phone, battery, product, camera, mobile, quali...   \n",
       "9  phone, battery, product, camera, mobile, quali...   \n",
       "\n",
       "                                                Text  \n",
       "0                              [update, improvement]  \n",
       "1  [mobile, battery, hell, backup, hour, us, idle...  \n",
       "2                                         [cash, ..]  \n",
       "3                                                 []  \n",
       "4  [phone, everthey, phone, problem, amazon, phon...  \n",
       "5                               [camerawaste, money]  \n",
       "6                     [phone, allot, .., reason, k8]  \n",
       "7                                   [battery, level]  \n",
       "8  [problem, phone, hanging, problem, note, stati...  \n",
       "9                       [lot, glitch, thing, option]  "
      ]
     },
     "execution_count": 34,
     "metadata": {},
     "output_type": "execute_result"
    }
   ],
   "source": [
    "import pandas as pd\n",
    "def format_topics_sentences(ldamodel=goodLdamodel, corpus=coprus, texts=review_sw):\n",
    "    # Init output\n",
    "    sent_topics_df = pd.DataFrame()\n",
    "\n",
    "    # Get main topic in each document\n",
    "    for i, row in enumerate(ldamodel[corpus]):\n",
    "        row = sorted(row, key=lambda x: (x[1]), reverse=True)\n",
    "        # Get the Dominant topic, Perc Contribution and Keywords for each document\n",
    "        for j, (topic_num, prop_topic) in enumerate(row):\n",
    "            if j == 0:  # => dominant topic\n",
    "                wp = ldamodel.show_topic(topic_num)\n",
    "                topic_keywords = \", \".join([word for word, prop in wp])\n",
    "                sent_topics_df = sent_topics_df.append(pd.Series([int(topic_num), round(prop_topic,4), topic_keywords]), ignore_index=True)\n",
    "            else:\n",
    "                break\n",
    "    sent_topics_df.columns = ['Dominant_Topic', 'Perc_Contribution', 'Topic_Keywords']\n",
    "\n",
    "    # Add original text to the end of the output\n",
    "    contents = pd.Series(texts)\n",
    "    sent_topics_df = pd.concat([sent_topics_df, contents], axis=1)\n",
    "    return(sent_topics_df)\n",
    "\n",
    "\n",
    "df_topic_sents_keywords = format_topics_sentences(ldamodel=goodLdamodel, corpus=coprus, texts=review_sw)\n",
    "\n",
    "# Format\n",
    "df_dominant_topic = df_topic_sents_keywords.reset_index()\n",
    "df_dominant_topic.columns = ['Document_No', 'Dominant_Topic', 'Topic_Perc_Contrib', 'Keywords', 'Text']\n",
    "\n",
    "# Show\n",
    "df_dominant_topic.head(10)"
   ]
  },
  {
   "cell_type": "markdown",
   "metadata": {},
   "source": [
    "<h2 style=\"color:Brown\">THE END</h2> "
   ]
  }
 ],
 "metadata": {
  "kernelspec": {
   "display_name": "Python 3",
   "language": "python",
   "name": "python3"
  },
  "language_info": {
   "codemirror_mode": {
    "name": "ipython",
    "version": 3
   },
   "file_extension": ".py",
   "mimetype": "text/x-python",
   "name": "python",
   "nbconvert_exporter": "python",
   "pygments_lexer": "ipython3",
   "version": "3.8.3"
  }
 },
 "nbformat": 4,
 "nbformat_minor": 4
}
